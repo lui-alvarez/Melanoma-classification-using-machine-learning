{
 "cells": [
  {
   "cell_type": "code",
   "execution_count": 25,
   "metadata": {},
   "outputs": [],
   "source": [
    "import cv2\n",
    "import os\n",
    "import numpy as np"
   ]
  },
  {
   "cell_type": "code",
   "execution_count": 93,
   "metadata": {},
   "outputs": [
    {
     "name": "stdout",
     "output_type": "stream",
     "text": [
      "Cropping is necessary\n"
     ]
    }
   ],
   "source": [
    "def display_img(image):\n",
    "    \n",
    "    cv2.imshow(\"Image\", image)\n",
    "    \n",
    "    # Wait for the user to press a key\n",
    "    cv2.waitKey(0)\n",
    "    \n",
    "    # Close all windows\n",
    "    cv2.destroyAllWindows()\n",
    "\n",
    "\n",
    "\n",
    "def rem_black_frame(image, threshold = 20):\n",
    "\n",
    "    # 1. Convert the image to grayscale\n",
    "    gray_image = cv2.cvtColor(image, cv2.COLOR_BGR2GRAY)\n",
    "    \n",
    "    # 2. Binarize the images with a low threshold\n",
    "    _, binary_image = cv2.threshold(gray_image, 50, 255, cv2.THRESH_BINARY | cv2.THRESH_OTSU)\n",
    "    \n",
    "    # 3. finding contours in the binary image\n",
    "    contours, _ = cv2.findContours(binary_image, cv2.RETR_EXTERNAL, cv2.CHAIN_APPROX_SIMPLE)\n",
    "    largest_contour = max(contours, key=cv2.contourArea)\n",
    "\n",
    "    # 4. obtain the bounding rectangle from the largest contour\n",
    "    x, y, w, h = cv2.boundingRect(largest_contour)\n",
    "\n",
    "    # 5. Determine the necessecity for cropping based on whether the mean intensity inside the bounding box is \n",
    "    # different from the mean intensity outside of the bounding box.\n",
    "    mean_intensity_inside = np.mean(gray_image[y:y+h, x:x+w])\n",
    "    \n",
    "    # the denomentator should not be equal to 0, if so, it means the bounding rectangle has the same dimensions of \n",
    "    # the original image, thus not necessary to crop\n",
    "    denominator = gray_image.size - w * h\n",
    "    if denominator != 0:\n",
    "        # Calculate the mean intensity outside the bounding box\n",
    "        mean_intensity_outside = (np.mean(gray_image) * gray_image.size - np.mean(gray_image[y:y+h, x:x+w]) * w * h) / denominator\n",
    "\n",
    "        # Check if cropping is necessary based on the mean intensity comparison\n",
    "        if mean_intensity_inside - mean_intensity_outside > threshold:\n",
    "            print(\"Cropping is necessary\")\n",
    "\n",
    "            # for debugging, display the image with the contour \n",
    "            # contour_image = cv2.drawContours(image.copy(), [largest_contour], -1, (255, 255, 255), 3)\n",
    "\n",
    "            # crop the image using the bounding rectangle\n",
    "            cropped_image = image.copy()[y:y+h, x:x+w]\n",
    "\n",
    "            # TODO: Region filling\n",
    "\n",
    "        else:\n",
    "            print(\"Cropping is not necessary, use the original image\")\n",
    "            cropped_image = image\n",
    "    else:\n",
    "        print(\"Cropping is not necessary, use the original image\")\n",
    "        cropped_image = image\n",
    "\n",
    "    \n",
    "    display_img(cropped_image)\n",
    "\n",
    "    return image\n",
    "\n",
    "\n",
    "# Samples to test (need cropping)\n",
    "# nev00002\n",
    "# nev00019\n",
    "# nev00031\n",
    "\n",
    "# Samples to test (doesn't need cropping, should be returned the same)\n",
    "# nev00001\n",
    "# nev00148\n",
    "# nev00292\n",
    "# nev00424\n",
    "# nev01052\n",
    "# nev01051\n",
    "\n",
    "img_name = 'nev01476.jpg'\n",
    "img_dir  = os.path.join(os.getcwd(), '../challenge1/train/nevus', img_name)\n",
    "\n",
    "image = cv2.imread(img_dir,cv2.IMREAD_COLOR)\n",
    "\n",
    "image = rem_black_frame(image)\n",
    "\n",
    "\n",
    "\n"
   ]
  },
  {
   "cell_type": "code",
   "execution_count": null,
   "metadata": {},
   "outputs": [],
   "source": [
    "# Test and try to obtain results as in the papers"
   ]
  }
 ],
 "metadata": {
  "kernelspec": {
   "display_name": "env",
   "language": "python",
   "name": "python3"
  },
  "language_info": {
   "codemirror_mode": {
    "name": "ipython",
    "version": 3
   },
   "file_extension": ".py",
   "mimetype": "text/x-python",
   "name": "python",
   "nbconvert_exporter": "python",
   "pygments_lexer": "ipython3",
   "version": "3.10.4"
  },
  "orig_nbformat": 4
 },
 "nbformat": 4,
 "nbformat_minor": 2
}
