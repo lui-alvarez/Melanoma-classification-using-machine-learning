{
 "cells": [
  {
   "cell_type": "markdown",
   "metadata": {},
   "source": [
    "Import packages"
   ]
  },
  {
   "cell_type": "code",
   "execution_count": 1,
   "metadata": {},
   "outputs": [],
   "source": [
    "import sys\n",
    "sys.path.append('../helpers/')\n",
    "\n",
    "from pathlib import Path\n",
    "import numpy as np\n",
    "import os\n",
    "from glob import glob\n",
    "import natsort\n",
    "import cv2\n",
    "import csv\n",
    "from tqdm import tqdm\n",
    "\n",
    "import matplotlib.pyplot as plt\n",
    "\n",
    "# importing packages\n",
    "from preprocessing import Preprocessing\n",
    "from feature_extraction import FeatureExtraction\n",
    "\n",
    "preprocessor = Preprocessing()\n",
    "feature_extractor = FeatureExtraction()\n",
    "\n",
    "# To allow auto reload to this notebook after modifying any external file imported\n",
    "%load_ext autoreload\n",
    "%autoreload 2"
   ]
  },
  {
   "cell_type": "markdown",
   "metadata": {},
   "source": [
    "Read the images"
   ]
  },
  {
   "cell_type": "code",
   "execution_count": 2,
   "metadata": {},
   "outputs": [
    {
     "name": "stdout",
     "output_type": "stream",
     "text": [
      "c:\\Users\\abdal\\Documents\\Master\\EMJMD MAIA\\SEMESTER 3 - UdG\\CAD\\Melanoma-classification-using-machine-learning\\notebooks\\..\\challenge1\\train\n"
     ]
    }
   ],
   "source": [
    "# SAVE_PATH = Path(\"Processed-Heart-Detection\")\n",
    "# dcm_path = ROOT_PATH/str(patient_id) # joining paths\n",
    "# dcm_path = dcm_path.with_suffix(\".dcm\") # adds suffix\n",
    "\n",
    "ROOT_PATH = Path(Path(os.getcwd())/\"../challenge1\")\n",
    "TRAIN_PATH = ROOT_PATH/\"train\"\n",
    "VAL_PATH = ROOT_PATH/\"val\"\n",
    "\n",
    "print(TRAIN_PATH)"
   ]
  },
  {
   "cell_type": "code",
   "execution_count": 8,
   "metadata": {},
   "outputs": [],
   "source": [
    "train_nevus = sorted(glob(str(TRAIN_PATH/'nevus/*')))\n",
    "train_others = sorted(glob(str(TRAIN_PATH/'others/*')))\n",
    "\n",
    "val_nevus = sorted(glob(str(VAL_PATH/'nevus/*')))\n",
    "val_others = sorted(glob(str(VAL_PATH/'others/*')))\n"
   ]
  },
  {
   "cell_type": "code",
   "execution_count": 4,
   "metadata": {},
   "outputs": [],
   "source": [
    "# train_nevus\n",
    "\n",
    "# TODO ASK:\n",
    "# Do we normalize the images in pre-processing or after we extract all of the features?\n",
    "# Should we remove the hair? Aggressivly? \n",
    "# Should we fill the borders?"
   ]
  },
  {
   "cell_type": "code",
   "execution_count": 5,
   "metadata": {},
   "outputs": [],
   "source": [
    "# def display_img(image, gray=False):\n",
    "#     if gray:\n",
    "#         plt.imshow(image, cmap='gray')\n",
    "#     else:\n",
    "#         # plt.imshow(image)\n",
    "#         plt.imshow(cv2.cvtColor(image, cv2.COLOR_BGR2RGB))\n",
    "#     plt.axis('off')\n"
   ]
  },
  {
   "cell_type": "code",
   "execution_count": 12,
   "metadata": {},
   "outputs": [
    {
     "name": "stderr",
     "output_type": "stream",
     "text": [
      "0it [00:00, ?it/s]"
     ]
    },
    {
     "name": "stdout",
     "output_type": "stream",
     "text": [
      "c:\\Users\\abdal\\Documents\\Master\\EMJMD MAIA\\SEMESTER 3 - UdG\\CAD\\Melanoma-classification-using-machine-learning\\notebooks\\..\\challenge1\\train\\nevus\\nev00001.jpg\n"
     ]
    },
    {
     "name": "stderr",
     "output_type": "stream",
     "text": [
      "1it [00:00,  3.25it/s]"
     ]
    },
    {
     "name": "stdout",
     "output_type": "stream",
     "text": [
      "c:\\Users\\abdal\\Documents\\Master\\EMJMD MAIA\\SEMESTER 3 - UdG\\CAD\\Melanoma-classification-using-machine-learning\\notebooks\\..\\challenge1\\train\\nevus\\nev00002.jpg\n"
     ]
    },
    {
     "name": "stderr",
     "output_type": "stream",
     "text": [
      "2it [00:02,  1.35s/it]"
     ]
    },
    {
     "name": "stdout",
     "output_type": "stream",
     "text": [
      "c:\\Users\\abdal\\Documents\\Master\\EMJMD MAIA\\SEMESTER 3 - UdG\\CAD\\Melanoma-classification-using-machine-learning\\notebooks\\..\\challenge1\\train\\nevus\\nev00003.jpg\n"
     ]
    },
    {
     "name": "stderr",
     "output_type": "stream",
     "text": [
      "3it [00:02,  1.09it/s]"
     ]
    },
    {
     "name": "stdout",
     "output_type": "stream",
     "text": [
      "c:\\Users\\abdal\\Documents\\Master\\EMJMD MAIA\\SEMESTER 3 - UdG\\CAD\\Melanoma-classification-using-machine-learning\\notebooks\\..\\challenge1\\train\\nevus\\nev00004.jpg\n"
     ]
    },
    {
     "name": "stderr",
     "output_type": "stream",
     "text": [
      "4it [00:03,  1.09it/s]"
     ]
    },
    {
     "name": "stdout",
     "output_type": "stream",
     "text": [
      "c:\\Users\\abdal\\Documents\\Master\\EMJMD MAIA\\SEMESTER 3 - UdG\\CAD\\Melanoma-classification-using-machine-learning\\notebooks\\..\\challenge1\\train\\nevus\\nev00005.jpg\n"
     ]
    },
    {
     "name": "stderr",
     "output_type": "stream",
     "text": [
      "5it [00:04,  1.31it/s]"
     ]
    },
    {
     "name": "stdout",
     "output_type": "stream",
     "text": [
      "c:\\Users\\abdal\\Documents\\Master\\EMJMD MAIA\\SEMESTER 3 - UdG\\CAD\\Melanoma-classification-using-machine-learning\\notebooks\\..\\challenge1\\train\\nevus\\nev00006.jpg\n"
     ]
    },
    {
     "name": "stderr",
     "output_type": "stream",
     "text": [
      "6it [00:05,  1.16it/s]"
     ]
    },
    {
     "name": "stdout",
     "output_type": "stream",
     "text": [
      "c:\\Users\\abdal\\Documents\\Master\\EMJMD MAIA\\SEMESTER 3 - UdG\\CAD\\Melanoma-classification-using-machine-learning\\notebooks\\..\\challenge1\\train\\nevus\\nev00007.jpg\n"
     ]
    },
    {
     "name": "stderr",
     "output_type": "stream",
     "text": [
      "7it [00:07,  1.21s/it]"
     ]
    },
    {
     "name": "stdout",
     "output_type": "stream",
     "text": [
      "c:\\Users\\abdal\\Documents\\Master\\EMJMD MAIA\\SEMESTER 3 - UdG\\CAD\\Melanoma-classification-using-machine-learning\\notebooks\\..\\challenge1\\train\\nevus\\nev00008.jpg\n"
     ]
    },
    {
     "name": "stderr",
     "output_type": "stream",
     "text": [
      "8it [00:07,  1.05it/s]"
     ]
    },
    {
     "name": "stdout",
     "output_type": "stream",
     "text": [
      "c:\\Users\\abdal\\Documents\\Master\\EMJMD MAIA\\SEMESTER 3 - UdG\\CAD\\Melanoma-classification-using-machine-learning\\notebooks\\..\\challenge1\\train\\nevus\\nev00009.jpg\n"
     ]
    },
    {
     "name": "stderr",
     "output_type": "stream",
     "text": [
      "9it [00:07,  1.33it/s]"
     ]
    },
    {
     "name": "stdout",
     "output_type": "stream",
     "text": [
      "c:\\Users\\abdal\\Documents\\Master\\EMJMD MAIA\\SEMESTER 3 - UdG\\CAD\\Melanoma-classification-using-machine-learning\\notebooks\\..\\challenge1\\train\\nevus\\nev00010.jpg\n"
     ]
    },
    {
     "name": "stderr",
     "output_type": "stream",
     "text": [
      "9it [00:13,  1.47s/it]\n"
     ]
    },
    {
     "ename": "KeyboardInterrupt",
     "evalue": "",
     "output_type": "error",
     "traceback": [
      "\u001b[1;31m---------------------------------------------------------------------------\u001b[0m",
      "\u001b[1;31mKeyboardInterrupt\u001b[0m                         Traceback (most recent call last)",
      "\u001b[1;32mc:\\Users\\abdal\\Documents\\Master\\EMJMD MAIA\\SEMESTER 3 - UdG\\CAD\\Melanoma-classification-using-machine-learning\\notebooks\\preprocessing.ipynb Cell 8\u001b[0m line \u001b[0;36m3\n\u001b[0;32m     <a href='vscode-notebook-cell:/c%3A/Users/abdal/Documents/Master/EMJMD%20MAIA/SEMESTER%203%20-%20UdG/CAD/Melanoma-classification-using-machine-learning/notebooks/preprocessing.ipynb#W6sZmlsZQ%3D%3D?line=32'>33</a>\u001b[0m image_resized \u001b[39m=\u001b[39m preprocessor\u001b[39m.\u001b[39mresize_images(image_without_black_frame, preserve_ratio\u001b[39m=\u001b[39m\u001b[39mTrue\u001b[39;00m)\n\u001b[0;32m     <a href='vscode-notebook-cell:/c%3A/Users/abdal/Documents/Master/EMJMD%20MAIA/SEMESTER%203%20-%20UdG/CAD/Melanoma-classification-using-machine-learning/notebooks/preprocessing.ipynb#W6sZmlsZQ%3D%3D?line=34'>35</a>\u001b[0m \u001b[39m# 3. Removing hair\u001b[39;00m\n\u001b[1;32m---> <a href='vscode-notebook-cell:/c%3A/Users/abdal/Documents/Master/EMJMD%20MAIA/SEMESTER%203%20-%20UdG/CAD/Melanoma-classification-using-machine-learning/notebooks/preprocessing.ipynb#W6sZmlsZQ%3D%3D?line=35'>36</a>\u001b[0m image_without_hair \u001b[39m=\u001b[39m preprocessor\u001b[39m.\u001b[39;49mextract_hair(image_resized)\n\u001b[0;32m     <a href='vscode-notebook-cell:/c%3A/Users/abdal/Documents/Master/EMJMD%20MAIA/SEMESTER%203%20-%20UdG/CAD/Melanoma-classification-using-machine-learning/notebooks/preprocessing.ipynb#W6sZmlsZQ%3D%3D?line=37'>38</a>\u001b[0m \u001b[39m# 4. Displaying result\u001b[39;00m\n\u001b[0;32m     <a href='vscode-notebook-cell:/c%3A/Users/abdal/Documents/Master/EMJMD%20MAIA/SEMESTER%203%20-%20UdG/CAD/Melanoma-classification-using-machine-learning/notebooks/preprocessing.ipynb#W6sZmlsZQ%3D%3D?line=38'>39</a>\u001b[0m \u001b[39m#display_img(image_without_hair)\u001b[39;00m\n\u001b[0;32m     <a href='vscode-notebook-cell:/c%3A/Users/abdal/Documents/Master/EMJMD%20MAIA/SEMESTER%203%20-%20UdG/CAD/Melanoma-classification-using-machine-learning/notebooks/preprocessing.ipynb#W6sZmlsZQ%3D%3D?line=39'>40</a>\u001b[0m \n\u001b[0;32m     <a href='vscode-notebook-cell:/c%3A/Users/abdal/Documents/Master/EMJMD%20MAIA/SEMESTER%203%20-%20UdG/CAD/Melanoma-classification-using-machine-learning/notebooks/preprocessing.ipynb#W6sZmlsZQ%3D%3D?line=40'>41</a>\u001b[0m \u001b[39m# 5. Extracting features\u001b[39;00m\n\u001b[0;32m     <a href='vscode-notebook-cell:/c%3A/Users/abdal/Documents/Master/EMJMD%20MAIA/SEMESTER%203%20-%20UdG/CAD/Melanoma-classification-using-machine-learning/notebooks/preprocessing.ipynb#W6sZmlsZQ%3D%3D?line=41'>42</a>\u001b[0m feature_vector \u001b[39m=\u001b[39m feature_extractor\u001b[39m.\u001b[39mextract_color_features(image)\n",
      "File \u001b[1;32mc:\\Users\\abdal\\Documents\\Master\\EMJMD MAIA\\SEMESTER 3 - UdG\\CAD\\Melanoma-classification-using-machine-learning\\notebooks\\../helpers\\preprocessing.py:62\u001b[0m, in \u001b[0;36mPreprocessing.extract_hair\u001b[1;34m(self, img)\u001b[0m\n\u001b[0;32m     59\u001b[0m structElemOpening \u001b[39m=\u001b[39m cv2\u001b[39m.\u001b[39mgetStructuringElement(cv2\u001b[39m.\u001b[39mMORPH_ELLIPSE, (p, p))\n\u001b[0;32m     60\u001b[0m img_opening \u001b[39m=\u001b[39m cv2\u001b[39m.\u001b[39mmorphologyEx(thr_img, cv2\u001b[39m.\u001b[39mMORPH_OPEN, structElemOpening)\n\u001b[1;32m---> 62\u001b[0m inpainted_img \u001b[39m=\u001b[39m cv2\u001b[39m.\u001b[39;49minpaint(img, img_opening, inpaintRadius\u001b[39m=\u001b[39;49m\u001b[39m10\u001b[39;49m, flags\u001b[39m=\u001b[39;49mcv2\u001b[39m.\u001b[39;49mINPAINT_NS)\n\u001b[0;32m     64\u001b[0m \u001b[39mreturn\u001b[39;00m inpainted_img\n",
      "\u001b[1;31mKeyboardInterrupt\u001b[0m: "
     ]
    }
   ],
   "source": [
    "# Pre-processing and feature extraction\n",
    "\n",
    "features_dir = r'../output/features/'\n",
    "\n",
    "experiment              = 0\n",
    "\n",
    "nevus_train_filename    = f'{experiment}_nevus_train_features.csv'\n",
    "nevus_val_filename      = f'{experiment}_nevus_val_features.csv'\n",
    "\n",
    "others_train_filename   = f'{experiment}_others_train_features.csv'\n",
    "others_val_filename     = f'{experiment}_others_val_features.csv'\n",
    "\n",
    "filenames_list = [nevus_train_filename, nevus_val_filename, others_train_filename,  others_val_filename]\n",
    "dir_list = [train_nevus, val_nevus, train_others, val_others]\n",
    "\n",
    "labels = [0, 0, 1, 1]\n",
    "\n",
    "for index, filename in enumerate(filenames_list):\n",
    "    with open(os.path.join(features_dir, filename), 'w', newline='') as csvfile:\n",
    "        writer = csv.writer(csvfile)\n",
    "\n",
    "        for _, image_path in tqdm(enumerate(dir_list[index])):\n",
    "\n",
    "            # reading the image \n",
    "            image = cv2.imread(image_path,cv2.IMREAD_COLOR)\n",
    "\n",
    "            # 1. Copping black frame\n",
    "            image_without_black_frame, _ = preprocessor.crop_frame(image)\n",
    "\n",
    "            # 2. Resizing\n",
    "            image_resized = preprocessor.resize_images(image_without_black_frame, preserve_ratio=True)\n",
    "\n",
    "            # 3. Removing hair\n",
    "            image_without_hair = preprocessor.extract_hair(image_resized)\n",
    "\n",
    "            # 4. Displaying result\n",
    "            #display_img(image_without_hair)\n",
    "            \n",
    "            # 5. Extracting features\n",
    "            feature_vector = feature_extractor.extract_color_features(image)\n",
    "\n",
    "            # 6. Add label column\n",
    "            feature_vector = np.append(feature_vector,labels[index])\n",
    "\n",
    "            # print(feature_vector)\n",
    "            writer.writerow(feature_vector)\n",
    "\n",
    "            \n"
   ]
  },
  {
   "cell_type": "code",
   "execution_count": null,
   "metadata": {},
   "outputs": [],
   "source": [
    "# Image augmentation\n",
    "# 1. Create dataset class (DL)\n",
    "# 2. pass the augmentation as an argument (create class/file)"
   ]
  }
 ],
 "metadata": {
  "kernelspec": {
   "display_name": "env",
   "language": "python",
   "name": "python3"
  },
  "language_info": {
   "codemirror_mode": {
    "name": "ipython",
    "version": 3
   },
   "file_extension": ".py",
   "mimetype": "text/x-python",
   "name": "python",
   "nbconvert_exporter": "python",
   "pygments_lexer": "ipython3",
   "version": "3.10.4"
  },
  "orig_nbformat": 4
 },
 "nbformat": 4,
 "nbformat_minor": 2
}
